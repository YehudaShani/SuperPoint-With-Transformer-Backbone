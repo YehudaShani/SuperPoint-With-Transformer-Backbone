{
  "cells": [
    {
      "cell_type": "code",
      "execution_count": null,
      "metadata": {
        "id": "BmxWSCb9L5pu"
      },
      "outputs": [],
      "source": [
        "!pip uninstall -y opencv-python opencv-python-headless opencv-contrib-python \\\n",
        "  array-api-compat xarray xarray-einstats albumentations albucore\n"
      ]
    },
    {
      "cell_type": "code",
      "execution_count": null,
      "metadata": {
        "id": "cLlrFSvjMMA0"
      },
      "outputs": [],
      "source": [
        "%%capture\n",
        "!pip install -q --upgrade --force-reinstall numpy==1.23.5 scipy==1.10.1\n",
        "!pip install -q --no-deps opencv-python-headless==4.7.0.72\n"
      ]
    },
    {
      "cell_type": "code",
      "execution_count": null,
      "metadata": {
        "id": "0j9zZfdYMN3b"
      },
      "outputs": [],
      "source": [
        "%%capture\n",
        "!pip install -q imgaug==0.4.0 imageio==2.31.1 matplotlib==3.8.4 \\\n",
        "  Pillow==9.5.0 six==1.16.0 PyYAML==6.0.2 tqdm==4.66.4\n",
        "# timm relies on torch; install timm but don't let it drag extras\n",
        "!pip install -q --no-deps timm==0.9.16\n"
      ]
    },
    {
      "cell_type": "code",
      "execution_count": null,
      "metadata": {
        "id": "z1efTkWaMR6h"
      },
      "outputs": [],
      "source": [
        "import os; os.kill(os.getpid(), 9)\n"
      ]
    },
    {
      "cell_type": "code",
      "execution_count": null,
      "metadata": {
        "id": "6oXcm8PBMYdU"
      },
      "outputs": [],
      "source": [
        "import torch; print(\"torch:\", torch.__version__)\n",
        "import numpy as np; print(\"numpy:\", np.__version__)         # -> 1.23.5\n",
        "import scipy; print(\"scipy:\", scipy.__version__)            # -> 1.10.1\n",
        "import cv2; print(\"opencv:\", cv2.__version__)               # -> 4.7.0.72\n",
        "import imgaug; print(\"imgaug:\", imgaug.__version__)         # -> 0.4.0\n",
        "import timm; print(\"timm:\", timm.__version__)               # -> 0.9.16\n"
      ]
    },
    {
      "cell_type": "code",
      "source": [
        "### Upload our Github to your Google Drive and name it SuperPoint-With-Transformer-Backbone ###"
      ],
      "metadata": {
        "id": "TnBRFUcDOWBF"
      },
      "execution_count": null,
      "outputs": []
    },
    {
      "cell_type": "code",
      "execution_count": null,
      "metadata": {
        "id": "6JMtQ-BKM5jO"
      },
      "outputs": [],
      "source": [
        "from google.colab import drive\n",
        "drive.mount('/content/drive')\n",
        "#drive.mount(\"/content/drive\", force_remount=True)"
      ]
    },
    {
      "cell_type": "code",
      "execution_count": null,
      "metadata": {
        "id": "ceK1jMNvNLwR"
      },
      "outputs": [],
      "source": [
        "%cd /content/drive/MyDrive/SuperPoint-With-Transformer-Backbone"
      ]
    },
    {
      "cell_type": "code",
      "source": [
        "# Train with a CNN VGG backbone. The Synthetic Dataset is created\n",
        "# in the 1st time you train.\n",
        "# A mg_syn___.pth file is saved after each batch\n",
        "%env PYTHONPATH=.\n",
        "!python train_MagicPoint_CNN.py ./config/magic_point_syn_train_cnn.yaml\n"
      ],
      "metadata": {
        "id": "sJRTed1JR3tX"
      },
      "execution_count": null,
      "outputs": []
    },
    {
      "cell_type": "code",
      "source": [
        "# Train with a Swin-Tiny Transformer backbone (instead of VGG )\n",
        "# on the Synthetic Dataset\n",
        "# A mg_syn_swin___.pth file is saved after each batch\n",
        "\n",
        "#fresh training:\n",
        "%env PYTHONPATH=.\n",
        "!python train_MagicPoint_Transformer.py config/magic_point_syn_train_swin_160x120.yaml --run_name swin_tiny_temp\n",
        "\n",
        "# #resume training:\n",
        "# %env PYTHONPATH=.\n",
        "# !python train.py config/magic_point_syn_train_swin_160x120.yaml \\\n",
        "#     --run_name swin_resume --resume export/last.pth"
      ],
      "metadata": {
        "id": "ZKcM0yKIz5Ac"
      },
      "execution_count": null,
      "outputs": []
    },
    {
      "cell_type": "code",
      "execution_count": null,
      "metadata": {
        "id": "bo9nj45_ZqoJ"
      },
      "outputs": [],
      "source": [
        "# Run and display  MagicPoint Transformer on a .jpg sample.\n",
        "# mg_syn_swin_15_0.176.pth was trained (in the cell above) on the Synthetic dataset\n",
        "# with a Swin-Tiny Transformer backbone\n",
        "%cd /content/drive/MyDrive/SuperPoint-With-Transformer-Backbone\n",
        "%env PYTHONPATH=.\n",
        "!python -u scripts/infer_one.py \\\n",
        "  --img sample.jpg \\\n",
        "  --ckpt export/mg_syn_swin_15_0.176.pth \\\n",
        "  --out runs/one_out.jpg --out_prob runs/one_prob.jpg \\\n",
        "  --device cuda:0 --H 120 --W 160 \\\n",
        "  --det_thresh 0.015 --nms 4 --topk 20\n",
        "\n",
        "from IPython.display import Image, display\n",
        "display(Image('runs/one_out.jpg', width=1200))   # adjust width as you like\n",
        "\n",
        "\n",
        "\n"
      ]
    },
    {
      "cell_type": "code",
      "source": [
        "# Download Dataset for Homographic Adaptation\n",
        "!mkdir /content/drive/MyDrive/SuperPoint-With-Transformer-Backbone/data/EUROC\n",
        "%cd /content/drive/MyDrive/SuperPoint-With-Transformer-Backbone/data/EUROC\n",
        "\n",
        "!wget http://robotics.ethz.ch/~asl-datasets/ijrr_euroc_mav_dataset/machine_hall/MH_01_easy/MH_01_easy.zip\n",
        "!unzip -q MH_01_easy.zip && rm MH_01_easy.zip\n",
        "\n",
        "import os\n",
        "import glob\n",
        "import shutil\n",
        "\n",
        "src_folder = \"/content/drive/MyDrive/SuperPoint-With-Transformer-Backbone/data/Euroc/mav0/cam0/data\"\n",
        "dst_folder1 = \"/content/drive/MyDrive/SuperPoint-With-Transformer-Backbone/data/Euroc/mav0/cam0/images_last2000\"\n",
        "dst_folder2 = \"/content/drive/MyDrive/SuperPoint-With-Transformer-Backbone/data/Euroc/mav0/cam0/images_first1000\"\n",
        "\n",
        "\n",
        "# Create destination folder if it doesn't exist\n",
        "os.makedirs(dst_folder1, exist_ok=True)\n",
        "os.makedirs(dst_folder2, exist_ok=True)\n",
        "\n",
        "\n",
        "# Get all images, sort by numeric part of filename\n",
        "image_files = sorted(\n",
        "    glob.glob(os.path.join(src_folder, \"*.jpg\")) +\n",
        "    glob.glob(os.path.join(src_folder, \"*.png\")) +\n",
        "    glob.glob(os.path.join(src_folder, \"*.jpeg\")),\n",
        "    key=lambda x: int(os.path.splitext(os.path.basename(x))[0])  # assumes name is like \"123.jpg\"\n",
        ")\n",
        "\n",
        "# Copy the last  ~ 2000 frames to a sepearte folder (training set)\n",
        "# Copy the first  ~ 1000 frames to a sepearte folder (test set)\n",
        "for img_path in image_files[1500:]:\n",
        "    shutil.copy(img_path, os.path.join(dst_folder1, os.path.basename(img_path)))\n",
        "for img_path in image_files[:1500]:\n",
        "    shutil.copy(img_path, os.path.join(dst_folder2, os.path.basename(img_path)))\n",
        "\n",
        "print(f\"Moved images to {dst_folder1}\")\n",
        "print(f\"Moved images to {dst_folder2}\")"
      ],
      "metadata": {
        "id": "YaNv1BOOo4o6"
      },
      "execution_count": null,
      "outputs": []
    },
    {
      "cell_type": "code",
      "source": [
        "# Run Homographic Adaptation (this is like \"Semi Supervision\" - it creates the Ground Truth feature points])\n",
        "%env PYTHONPATH=.\n",
        "!python scripts/homographic_adaptation.py \\\n",
        "  --img_dir /content/drive/MyDrive/SuperPoint-With-Transformer-Backbone/data/Euroc/mav0/cam0/images_last2000 \\\n",
        "  --ckpt /content/drive/MyDrive/SuperPoint-With-Transformer-Backbone/export/mg_syn_swin_15_0.176.pth \\\n",
        "  --out_dir /content/drive/MyDrive/SuperPoint-With-Transformer-Backbone/runs/ha_out \\\n",
        "  --H 120 --W 160 \\\n",
        "  --num_aug 32 --agg mean \\\n",
        "  --det_thresh 0.04 --nms 4 --topk 70 \\\n",
        "  --valid_margin 4 --erode_border 4 --save_viz --save_npys --seed 0\n",
        "#   --img_dir /content/drive/MyDrive/SuperPoint-With-Transformer-Backbone/data/real/test_one \\"
      ],
      "metadata": {
        "id": "fuaJlRftoUss"
      },
      "execution_count": null,
      "outputs": []
    },
    {
      "cell_type": "code",
      "source": [
        "# Fine tune the Swin detector on the Homographic Adaptation results\n",
        "%env PYTHONPATH=.\n",
        "!python scripts/finetune_magicpoint_ha.py \\\n",
        "  --img_dir /content/drive/MyDrive/SuperPoint-With-Transformer-Backbone/data/Euroc/mav0/cam0/images_last2000 \\\n",
        "  --lab_dir /content/drive/MyDrive/SuperPoint-With-Transformer-Backbone/runs/ha_out \\\n",
        "  --ckpt export/mg_syn_swin_15_0.176.pth \\\n",
        "  --out_dir export/finetune_swin \\\n",
        "  --log_dir runs/ft_logs \\\n",
        "  --H 120 --W 160 \\\n",
        "  --epochs1 10 --epochs2 10 --lr1 1e-4 --lr2 1e-5\n"
      ],
      "metadata": {
        "id": "KTWJeR65pWtr"
      },
      "execution_count": null,
      "outputs": []
    },
    {
      "cell_type": "code",
      "source": [
        "# Fine tune the CNN detector on the Homographic Adaptation results\n",
        "%env PYTHONPATH=.\n",
        "!python scripts/finetune_magicpoint_ha.py \\\n",
        "  --img_dir /content/drive/MyDrive/SuperPoint-With-Transformer-Backbone/data/Euroc/mav0/cam0/images_last2000 \\\n",
        "  --lab_dir /content/drive/MyDrive/SuperPoint-With-Transformer-Backbone/runs/ha_out \\\n",
        "  --ckpt export/mg_syn_cnn_13_0.136.pth \\\n",
        "  --out_dir export/finetune_cnn \\\n",
        "  --log_dir runs/ft_logs \\\n",
        "  --H 120 --W 160 \\\n",
        "  --epochs1 10 --epochs2 10 --lr1 1e-4 --lr2 1e-5"
      ],
      "metadata": {
        "id": "hgEoi-SeGbq6"
      },
      "execution_count": null,
      "outputs": []
    },
    {
      "cell_type": "code",
      "source": [
        "# Check detector's, with Transformer backbone, homographic consistency (on the test samples)\n",
        "%env PYTHONPATH=.\n",
        "!python scripts/homography_consistency_dir.py \\\n",
        "  --arch swin \\\n",
        "  --img_dir /content/drive/MyDrive/SuperPoint-With-Transformer-Backbone/data/Euroc/mav0/cam0/images_first1000 \\\n",
        "  --ckpt export/finetune_swin/best.pth \\\n",
        "  --csv_out runs/homo_dir/swin.csv \\\n",
        "  --H 120 --W 160 --det_thresh 0.02 --nms 4 --topk 50 \\\n",
        "  --px_thresh 3.0 --valid_margin 4 --trials 1 --seed 123"
      ],
      "metadata": {
        "id": "dX_rdqvHJlkB"
      },
      "execution_count": null,
      "outputs": []
    },
    {
      "cell_type": "code",
      "source": [
        "# Check detector's, with CNN backbone, homographic consistency (on the test samples)\n",
        "%env PYTHONPATH=.\n",
        "!python scripts/homography_consistency_dir.py \\\n",
        "  --arch cnn \\\n",
        "  --img_dir /content/drive/MyDrive/SuperPoint-With-Transformer-Backbone/data/Euroc/mav0/cam0/images_first1000 \\\n",
        "  --ckpt export/finetune_cnn/best.pth \\\n",
        "  --csv_out runs/homo_dir/cnn.csv \\\n",
        "  --H 120 --W 160 --det_thresh 0.02 --nms 4 --topk 50 \\\n",
        "  --px_thresh 3.0 --valid_margin 4 --trials 1 --seed 123"
      ],
      "metadata": {
        "id": "xztGwrRBJ1SV"
      },
      "execution_count": null,
      "outputs": []
    },
    {
      "cell_type": "code",
      "source": [
        "# Create feature point tracking on a video, from frame to frame,\n",
        "# using the Swin detector fine tuned on the Homographic Adaptation results\n",
        "%env PYTHONPATH=.\n",
        "!python scripts/track_seq_lk_magicpoint_sxs_firstonly.py \\\n",
        "  --img_dir /content/drive/MyDrive/SuperPoint-With-Transformer-Backbone/data/Euroc/mav0/cam0/images_first1000 \\\n",
        "  --out_video /content/drive/MyDrive/SuperPoint-With-Transformer-Backbone/data/Euroc/mav0/cam0/tracks_first50_once.mp4 \\\n",
        "  --ckpt export/finetune_swin/best.pth \\\n",
        "  --det_thresh 0.02 --nms 4 --topk 50 \\\n",
        "  --num_frames 50 --fps 5 --fb_check --fb_thresh 2"
      ],
      "metadata": {
        "id": "OQzLLApep-VN"
      },
      "execution_count": null,
      "outputs": []
    }
  ],
  "metadata": {
    "colab": {
      "gpuType": "T4",
      "machine_shape": "hm",
      "provenance": []
    },
    "kernelspec": {
      "display_name": "Python 3",
      "name": "python3"
    },
    "language_info": {
      "name": "python"
    }
  },
  "nbformat": 4,
  "nbformat_minor": 0
}